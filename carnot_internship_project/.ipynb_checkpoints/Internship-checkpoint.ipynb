{
 "cells": [
  {
   "cell_type": "code",
   "execution_count": 1,
   "metadata": {
    "collapsed": true
   },
   "outputs": [],
   "source": [
    "import pandas as pd\n",
    "from sklearn.cluster import KMeans\n",
    "import numpy as np\n",
    "import warnings\n",
    "warnings.filterwarnings('ignore')"
   ]
  },
  {
   "cell_type": "code",
   "execution_count": 2,
   "metadata": {
    "collapsed": true
   },
   "outputs": [],
   "source": [
    "\"\"\" setting seed for repetability of results \"\"\"\n",
    "np.random.seed(1)"
   ]
  },
  {
   "cell_type": "markdown",
   "metadata": {},
   "source": [
    "## Data Preprocessing"
   ]
  },
  {
   "cell_type": "code",
   "execution_count": 3,
   "metadata": {
    "collapsed": true
   },
   "outputs": [],
   "source": [
    "car_data_raw = pd.read_csv(\"147.csv\", header=-1)"
   ]
  },
  {
   "cell_type": "code",
   "execution_count": 4,
   "metadata": {
    "collapsed": true
   },
   "outputs": [],
   "source": [
    "car_data_raw.head()\n",
    "car_data_raw.columns = [\"Id\", \"Speed\", \"RPM\", \"Engine Load\"]"
   ]
  },
  {
   "cell_type": "code",
   "execution_count": 5,
   "metadata": {},
   "outputs": [
    {
     "data": {
      "text/html": [
       "<div>\n",
       "<style scoped>\n",
       "    .dataframe tbody tr th:only-of-type {\n",
       "        vertical-align: middle;\n",
       "    }\n",
       "\n",
       "    .dataframe tbody tr th {\n",
       "        vertical-align: top;\n",
       "    }\n",
       "\n",
       "    .dataframe thead th {\n",
       "        text-align: right;\n",
       "    }\n",
       "</style>\n",
       "<table border=\"1\" class=\"dataframe\">\n",
       "  <thead>\n",
       "    <tr style=\"text-align: right;\">\n",
       "      <th></th>\n",
       "      <th>Id</th>\n",
       "      <th>Speed</th>\n",
       "      <th>RPM</th>\n",
       "      <th>Engine Load</th>\n",
       "    </tr>\n",
       "  </thead>\n",
       "  <tbody>\n",
       "    <tr>\n",
       "      <th>count</th>\n",
       "      <td>13726.000000</td>\n",
       "      <td>13726.000000</td>\n",
       "      <td>13726.000000</td>\n",
       "      <td>13726.000000</td>\n",
       "    </tr>\n",
       "    <tr>\n",
       "      <th>mean</th>\n",
       "      <td>454117.188912</td>\n",
       "      <td>28.282821</td>\n",
       "      <td>1224.099301</td>\n",
       "      <td>31.287119</td>\n",
       "    </tr>\n",
       "    <tr>\n",
       "      <th>std</th>\n",
       "      <td>217035.672940</td>\n",
       "      <td>22.714017</td>\n",
       "      <td>504.335148</td>\n",
       "      <td>22.677319</td>\n",
       "    </tr>\n",
       "    <tr>\n",
       "      <th>min</th>\n",
       "      <td>131501.000000</td>\n",
       "      <td>0.000000</td>\n",
       "      <td>0.000000</td>\n",
       "      <td>0.000000</td>\n",
       "    </tr>\n",
       "    <tr>\n",
       "      <th>25%</th>\n",
       "      <td>269089.250000</td>\n",
       "      <td>7.000000</td>\n",
       "      <td>894.000000</td>\n",
       "      <td>10.000000</td>\n",
       "    </tr>\n",
       "    <tr>\n",
       "      <th>50%</th>\n",
       "      <td>378304.500000</td>\n",
       "      <td>27.000000</td>\n",
       "      <td>1295.000000</td>\n",
       "      <td>32.000000</td>\n",
       "    </tr>\n",
       "    <tr>\n",
       "      <th>75%</th>\n",
       "      <td>673087.750000</td>\n",
       "      <td>47.000000</td>\n",
       "      <td>1586.000000</td>\n",
       "      <td>47.000000</td>\n",
       "    </tr>\n",
       "    <tr>\n",
       "      <th>max</th>\n",
       "      <td>778837.000000</td>\n",
       "      <td>200.000000</td>\n",
       "      <td>3290.000000</td>\n",
       "      <td>100.000000</td>\n",
       "    </tr>\n",
       "  </tbody>\n",
       "</table>\n",
       "</div>"
      ],
      "text/plain": [
       "                  Id         Speed           RPM   Engine Load\n",
       "count   13726.000000  13726.000000  13726.000000  13726.000000\n",
       "mean   454117.188912     28.282821   1224.099301     31.287119\n",
       "std    217035.672940     22.714017    504.335148     22.677319\n",
       "min    131501.000000      0.000000      0.000000      0.000000\n",
       "25%    269089.250000      7.000000    894.000000     10.000000\n",
       "50%    378304.500000     27.000000   1295.000000     32.000000\n",
       "75%    673087.750000     47.000000   1586.000000     47.000000\n",
       "max    778837.000000    200.000000   3290.000000    100.000000"
      ]
     },
     "execution_count": 5,
     "metadata": {},
     "output_type": "execute_result"
    }
   ],
   "source": [
    "\"\"\" \n",
    "RPM is on a different scale so will experiment with normalization of data\n",
    "\"\"\"\n",
    "car_data_raw.describe()"
   ]
  },
  {
   "cell_type": "code",
   "execution_count": 6,
   "metadata": {},
   "outputs": [
    {
     "name": "stdout",
     "output_type": "stream",
     "text": [
      "(13726, 4)\n"
     ]
    },
    {
     "data": {
      "text/plain": [
       "13726"
      ]
     },
     "execution_count": 6,
     "metadata": {},
     "output_type": "execute_result"
    }
   ],
   "source": [
    "print car_data_raw.shape\n",
    "car_data_raw['Id'].nunique()\n",
    "# Looks like unique id for each observation, not relevant for clustering"
   ]
  },
  {
   "cell_type": "code",
   "execution_count": 7,
   "metadata": {
    "collapsed": true
   },
   "outputs": [],
   "source": [
    "list_of_relevant_cols=[\"Speed\", \"RPM\", \"Engine Load\"]"
   ]
  },
  {
   "cell_type": "code",
   "execution_count": 8,
   "metadata": {
    "collapsed": true
   },
   "outputs": [],
   "source": [
    "# \"\"\"\n",
    "# Scaling the variables\n",
    "# \"\"\"\n",
    "# from sklearn.preprocessing import MinMaxScaler\n",
    "# car_data = pd.DataFrame(MinMaxScaler().fit_transform(car_data_raw[list_of_relevant_cols]))\n",
    "\"\"\" \n",
    "tried with different scaling strategy like minmax, robust scaler etc\n",
    "but unscaled data had best clustering performance hence sticking with that\n",
    "results are easily interpretable too\n",
    "\"\"\"\n",
    "car_data = car_data_raw[list_of_relevant_cols]"
   ]
  },
  {
   "cell_type": "code",
   "execution_count": 9,
   "metadata": {},
   "outputs": [
    {
     "data": {
      "text/html": [
       "<div>\n",
       "<style scoped>\n",
       "    .dataframe tbody tr th:only-of-type {\n",
       "        vertical-align: middle;\n",
       "    }\n",
       "\n",
       "    .dataframe tbody tr th {\n",
       "        vertical-align: top;\n",
       "    }\n",
       "\n",
       "    .dataframe thead th {\n",
       "        text-align: right;\n",
       "    }\n",
       "</style>\n",
       "<table border=\"1\" class=\"dataframe\">\n",
       "  <thead>\n",
       "    <tr style=\"text-align: right;\">\n",
       "      <th></th>\n",
       "      <th>Speed</th>\n",
       "      <th>RPM</th>\n",
       "      <th>Engine Load</th>\n",
       "    </tr>\n",
       "  </thead>\n",
       "  <tbody>\n",
       "    <tr>\n",
       "      <th>0</th>\n",
       "      <td>7</td>\n",
       "      <td>898</td>\n",
       "      <td>44</td>\n",
       "    </tr>\n",
       "    <tr>\n",
       "      <th>1</th>\n",
       "      <td>7</td>\n",
       "      <td>898</td>\n",
       "      <td>44</td>\n",
       "    </tr>\n",
       "    <tr>\n",
       "      <th>2</th>\n",
       "      <td>1</td>\n",
       "      <td>917</td>\n",
       "      <td>32</td>\n",
       "    </tr>\n",
       "    <tr>\n",
       "      <th>3</th>\n",
       "      <td>1</td>\n",
       "      <td>917</td>\n",
       "      <td>32</td>\n",
       "    </tr>\n",
       "    <tr>\n",
       "      <th>4</th>\n",
       "      <td>0</td>\n",
       "      <td>774</td>\n",
       "      <td>38</td>\n",
       "    </tr>\n",
       "  </tbody>\n",
       "</table>\n",
       "</div>"
      ],
      "text/plain": [
       "   Speed  RPM  Engine Load\n",
       "0      7  898           44\n",
       "1      7  898           44\n",
       "2      1  917           32\n",
       "3      1  917           32\n",
       "4      0  774           38"
      ]
     },
     "execution_count": 9,
     "metadata": {},
     "output_type": "execute_result"
    }
   ],
   "source": [
    "car_data.head()"
   ]
  },
  {
   "cell_type": "markdown",
   "metadata": {},
   "source": [
    "## Clustering"
   ]
  },
  {
   "cell_type": "code",
   "execution_count": 10,
   "metadata": {
    "collapsed": true
   },
   "outputs": [],
   "source": [
    "number_of_clusters = 6 # gear reverse + 1 to 5\n",
    "kmeans_object = KMeans(number_of_clusters)"
   ]
  },
  {
   "cell_type": "code",
   "execution_count": 11,
   "metadata": {},
   "outputs": [
    {
     "data": {
      "text/plain": [
       "KMeans(algorithm='auto', copy_x=True, init='k-means++', max_iter=300,\n",
       "    n_clusters=6, n_init=10, n_jobs=1, precompute_distances='auto',\n",
       "    random_state=None, tol=0.0001, verbose=0)"
      ]
     },
     "execution_count": 11,
     "metadata": {},
     "output_type": "execute_result"
    }
   ],
   "source": [
    "kmeans_object.fit(car_data)"
   ]
  },
  {
   "cell_type": "code",
   "execution_count": 12,
   "metadata": {},
   "outputs": [
    {
     "data": {
      "text/plain": [
       "array([1, 1, 1, ..., 2, 2, 2], dtype=int32)"
      ]
     },
     "execution_count": 12,
     "metadata": {},
     "output_type": "execute_result"
    }
   ],
   "source": [
    "labels = kmeans_object.labels_\n",
    "labels"
   ]
  },
  {
   "cell_type": "code",
   "execution_count": 13,
   "metadata": {},
   "outputs": [
    {
     "data": {
      "text/html": [
       "<div>\n",
       "<style scoped>\n",
       "    .dataframe tbody tr th:only-of-type {\n",
       "        vertical-align: middle;\n",
       "    }\n",
       "\n",
       "    .dataframe tbody tr th {\n",
       "        vertical-align: top;\n",
       "    }\n",
       "\n",
       "    .dataframe thead th {\n",
       "        text-align: right;\n",
       "    }\n",
       "</style>\n",
       "<table border=\"1\" class=\"dataframe\">\n",
       "  <thead>\n",
       "    <tr style=\"text-align: right;\">\n",
       "      <th></th>\n",
       "      <th>Speed</th>\n",
       "      <th>RPM</th>\n",
       "      <th>Engine Load</th>\n",
       "      <th>gear_labels</th>\n",
       "    </tr>\n",
       "  </thead>\n",
       "  <tbody>\n",
       "    <tr>\n",
       "      <th>0</th>\n",
       "      <td>7</td>\n",
       "      <td>898</td>\n",
       "      <td>44</td>\n",
       "      <td>1</td>\n",
       "    </tr>\n",
       "    <tr>\n",
       "      <th>1</th>\n",
       "      <td>7</td>\n",
       "      <td>898</td>\n",
       "      <td>44</td>\n",
       "      <td>1</td>\n",
       "    </tr>\n",
       "    <tr>\n",
       "      <th>2</th>\n",
       "      <td>1</td>\n",
       "      <td>917</td>\n",
       "      <td>32</td>\n",
       "      <td>1</td>\n",
       "    </tr>\n",
       "    <tr>\n",
       "      <th>3</th>\n",
       "      <td>1</td>\n",
       "      <td>917</td>\n",
       "      <td>32</td>\n",
       "      <td>1</td>\n",
       "    </tr>\n",
       "    <tr>\n",
       "      <th>4</th>\n",
       "      <td>0</td>\n",
       "      <td>774</td>\n",
       "      <td>38</td>\n",
       "      <td>1</td>\n",
       "    </tr>\n",
       "  </tbody>\n",
       "</table>\n",
       "</div>"
      ],
      "text/plain": [
       "   Speed  RPM  Engine Load gear_labels\n",
       "0      7  898           44           1\n",
       "1      7  898           44           1\n",
       "2      1  917           32           1\n",
       "3      1  917           32           1\n",
       "4      0  774           38           1"
      ]
     },
     "execution_count": 13,
     "metadata": {},
     "output_type": "execute_result"
    }
   ],
   "source": [
    "car_data['gear_labels'] = labels\n",
    "car_data['gear_labels'] = car_data['gear_labels'].astype(str)\n",
    "car_data.head()"
   ]
  },
  {
   "cell_type": "code",
   "execution_count": 14,
   "metadata": {},
   "outputs": [
    {
     "data": {
      "text/plain": [
       "1    4626\n",
       "4    3344\n",
       "0    2441\n",
       "3    1962\n",
       "2     885\n",
       "5     468\n",
       "Name: gear_labels, dtype: int64"
      ]
     },
     "execution_count": 14,
     "metadata": {},
     "output_type": "execute_result"
    }
   ],
   "source": [
    "car_data['gear_labels'].value_counts()"
   ]
  },
  {
   "cell_type": "code",
   "execution_count": 15,
   "metadata": {},
   "outputs": [
    {
     "data": {
      "text/plain": [
       "array([[3.12000000e+01, 1.26766462e+03, 2.86085890e+01],\n",
       "       [9.22135754e+00, 8.63992218e+02, 4.10438824e+01],\n",
       "       [5.94463277e+00, 2.12881356e+00, 7.31525424e+00],\n",
       "       [4.79105774e+01, 1.80725345e+03, 3.09555442e+01],\n",
       "       [4.37991031e+01, 1.53087115e+03, 2.53103139e+01],\n",
       "       [5.07222222e+01, 2.23563248e+03, 3.82756410e+01]])"
      ]
     },
     "execution_count": 15,
     "metadata": {},
     "output_type": "execute_result"
    }
   ],
   "source": [
    "centroids = kmeans_object.cluster_centers_\n",
    "centroids"
   ]
  },
  {
   "cell_type": "code",
   "execution_count": 16,
   "metadata": {},
   "outputs": [
    {
     "name": "stdout",
     "output_type": "stream",
     "text": [
      "speed mean 31.2 rpm mean 1267.66 engine load mean 28.61\n",
      "speed mean 9.22 rpm mean 863.99 engine load mean 41.04\n",
      "speed mean 5.94 rpm mean 2.13 engine load mean 7.32\n",
      "speed mean 47.91 rpm mean 1807.25 engine load mean 30.96\n",
      "speed mean 43.8 rpm mean 1530.87 engine load mean 25.31\n",
      "speed mean 50.72 rpm mean 2235.63 engine load mean 38.28\n"
     ]
    }
   ],
   "source": [
    "\"\"\"\n",
    "Assumptions/Intuition\n",
    "Label 2 has relatively few observations, people don't drive in reverse so often, low speed and \n",
    "very different rpm and engine load -- Reverse gear\n",
    "Other gear Labels can be given in terms of the speed, higher speed higher the gear\n",
    "\"\"\"\n",
    "for centers in centroids:\n",
    "    print \"speed mean\", centers[0].round(2), \"rpm mean\", centers[1].round(2), \"engine load mean\", centers[2].round(2)"
   ]
  },
  {
   "cell_type": "code",
   "execution_count": 17,
   "metadata": {},
   "outputs": [
    {
     "data": {
      "text/plain": [
       "0.6082419123204645"
      ]
     },
     "execution_count": 17,
     "metadata": {},
     "output_type": "execute_result"
    }
   ],
   "source": [
    "\"\"\"Cluster Diagnostics \"\"\"\n",
    "\"\"\" Decent  silhouette score indicating good clustering health\"\"\"\n",
    "from sklearn import metrics\n",
    "metrics.silhouette_score(car_data[list_of_relevant_cols], labels, metric='euclidean')"
   ]
  },
  {
   "cell_type": "code",
   "execution_count": 18,
   "metadata": {
    "collapsed": true
   },
   "outputs": [],
   "source": [
    "\"\"\" function to identify error observations as outliers \"\"\"\n",
    "def mad_based_outlier(points, thresh=3.5):\n",
    "    if len(points.shape) == 1:\n",
    "        points = points[:,None]\n",
    "    median = np.median(points, axis=0)\n",
    "    diff = np.sum((points - median)**2, axis=-1)\n",
    "    diff = np.sqrt(diff)\n",
    "    med_abs_deviation = np.median(diff)\n",
    "\n",
    "    modified_z_score = 0.6745 * diff / med_abs_deviation\n",
    "\n",
    "    return modified_z_score > thresh"
   ]
  },
  {
   "cell_type": "code",
   "execution_count": 19,
   "metadata": {},
   "outputs": [
    {
     "name": "stdout",
     "output_type": "stream",
     "text": [
      "label 1\n",
      "(579, 6) (4626, 6)\n",
      "label 2\n",
      "(181, 6) (885, 6)\n",
      "label 3\n",
      "(0, 6) (1962, 6)\n",
      "label 4\n",
      "(0, 6) (3344, 6)\n",
      "label 0\n",
      "(0, 6) (2441, 6)\n",
      "label 5\n",
      "(22, 6) (468, 6)\n"
     ]
    }
   ],
   "source": [
    "\"\"\" identify outliers within each cluster\"\"\"\n",
    "\"\"\" outlier percentage too high, need to put some more work in, not doing error removal \"\"\"\n",
    "for label in car_data['gear_labels'].unique():\n",
    "    print \"label\",label\n",
    "#     print car_data[car_data['gear_labels'] == label][[\"Speed\", \"RPM\", \"Engine Load\"]].describe()\n",
    "    car_label_data = car_data[car_data['gear_labels'] == label][[\"Speed\", \"RPM\", \"Engine Load\"]]\n",
    "    car_label_outlier = pd.DataFrame(car_label_data[[\"Speed\", \"RPM\", \"Engine Load\"]].apply(mad_based_outlier))\n",
    "    renamed_labels = [\"speed_is_outlier\", \"rpm_is_outlier\", \"engine_load_is_outlier\"]\n",
    "    car_label_outlier.columns = renamed_labels\n",
    "    car_data_combined = pd.concat([car_label_data,car_label_outlier], axis=1)\n",
    "    print car_data_combined[car_data_combined[renamed_labels].any(axis=1)].shape, car_data_combined.shape"
   ]
  },
  {
   "cell_type": "markdown",
   "metadata": {},
   "source": [
    "## Intuition based labelling"
   ]
  },
  {
   "cell_type": "code",
   "execution_count": 20,
   "metadata": {
    "collapsed": true
   },
   "outputs": [],
   "source": [
    "gear_to_label_map = {\"5\":\"5th gear\",\"3\":\"4th gear\", \"4\":\"3rd gear\", \"0\":\"2nd gear\", \"1\":\"1st gear\", \"2\":\"reverse gear\"}"
   ]
  },
  {
   "cell_type": "code",
   "execution_count": 21,
   "metadata": {
    "collapsed": true
   },
   "outputs": [],
   "source": [
    "car_data['gear_labels'].replace(gear_to_label_map, inplace=True)"
   ]
  },
  {
   "cell_type": "code",
   "execution_count": 22,
   "metadata": {},
   "outputs": [
    {
     "data": {
      "text/plain": [
       "1st gear        4626\n",
       "3rd gear        3344\n",
       "2nd gear        2441\n",
       "4th gear        1962\n",
       "reverse gear     885\n",
       "5th gear         468\n",
       "Name: gear_labels, dtype: int64"
      ]
     },
     "execution_count": 22,
     "metadata": {},
     "output_type": "execute_result"
    }
   ],
   "source": [
    "car_data['gear_labels'].value_counts()"
   ]
  },
  {
   "cell_type": "code",
   "execution_count": 23,
   "metadata": {
    "collapsed": true
   },
   "outputs": [],
   "source": [
    "gear_count = car_data['gear_labels'].value_counts()"
   ]
  },
  {
   "cell_type": "code",
   "execution_count": 24,
   "metadata": {},
   "outputs": [
    {
     "data": {
      "text/plain": [
       "1st gear        33.70\n",
       "3rd gear        24.36\n",
       "2nd gear        17.78\n",
       "4th gear        14.29\n",
       "reverse gear     6.45\n",
       "5th gear         3.41\n",
       "Name: gear_labels, dtype: float64"
      ]
     },
     "execution_count": 24,
     "metadata": {},
     "output_type": "execute_result"
    }
   ],
   "source": [
    "(gear_count/len(car_data)*100).round(2)"
   ]
  },
  {
   "cell_type": "markdown",
   "metadata": {},
   "source": [
    "## post clustering visualization"
   ]
  },
  {
   "cell_type": "code",
   "execution_count": 25,
   "metadata": {
    "collapsed": true
   },
   "outputs": [],
   "source": [
    "\"\"\" plotting metrics two at a time by label\"\"\"\n",
    "import matplotlib.pyplot as plt\n",
    "# three different scatter series so the class labels in the legend are distinct\n",
    "def two_variables_with_cluster_color_simple(car_data,col_x_axis,col_y_axis):\n",
    "    plt.scatter(car_data[car_data[\"gear_labels\"]==\"reverse gear\"][col_x_axis], \n",
    "                car_data[car_data[\"gear_labels\"]==\"reverse gear\"][col_y_axis], label='Reverse', c='black')\n",
    "    plt.scatter(car_data[car_data[\"gear_labels\"]==\"1st gear\"][col_x_axis], \n",
    "                car_data[car_data[\"gear_labels\"]==\"1st gear\"][col_y_axis], label='1st Gear', c='blue')\n",
    "    plt.scatter(car_data[car_data[\"gear_labels\"]==\"2nd gear\"][col_x_axis], \n",
    "                car_data[car_data[\"gear_labels\"]==\"2nd gear\"][col_y_axis], label='2nd Gear', c='lightgreen')\n",
    "    plt.scatter(car_data[car_data[\"gear_labels\"]==\"3rd gear\"][col_x_axis], \n",
    "                car_data[car_data[\"gear_labels\"]==\"3rd gear\"][col_y_axis], label='3rd Gear', c='green')\n",
    "    plt.scatter(car_data[car_data[\"gear_labels\"]==\"4th gear\"][col_x_axis], \n",
    "                car_data[car_data[\"gear_labels\"]==\"4th gear\"][col_y_axis], label='4th Gear', c='yellow')\n",
    "    plt.scatter(car_data[car_data[\"gear_labels\"]==\"5th gear\"][col_x_axis], \n",
    "                car_data[car_data[\"gear_labels\"]==\"5th gear\"][col_y_axis], label='5th Gear', c='red')\n",
    "\n",
    "    # Prettify the graph\n",
    "    plt.legend()\n",
    "    plt.xlabel(col_x_axis)\n",
    "    plt.ylabel(col_y_axis)\n",
    "\n",
    "    # display\n",
    "    plt.show()"
   ]
  },
  {
   "cell_type": "code",
   "execution_count": 26,
   "metadata": {},
   "outputs": [
    {
     "data": {
      "image/png": "[encoded data removed]",
      "text/plain": [
       "<matplotlib.figure.Figure at 0x1a0b0e5210>"
      ]
     },
     "metadata": {},
     "output_type": "display_data"
    }
   ],
   "source": [
    "two_variables_with_cluster_color_simple(car_data, col_x_axis='RPM',col_y_axis='Speed')"
   ]
  },
  {
   "cell_type": "code",
   "execution_count": 27,
   "metadata": {},
   "outputs": [
    {
     "data": {
      "image/png": "[encoded data removed]",
      "text/plain": [
       "<matplotlib.figure.Figure at 0x1a0c1f7a90>"
      ]
     },
     "metadata": {},
     "output_type": "display_data"
    }
   ],
   "source": [
    "two_variables_with_cluster_color_simple(car_data, col_x_axis='Engine Load',col_y_axis='RPM')"
   ]
  },
  {
   "cell_type": "markdown",
   "metadata": {},
   "source": [
    "### reducing dimensionality and plotting"
   ]
  },
  {
   "cell_type": "code",
   "execution_count": 28,
   "metadata": {
    "collapsed": true
   },
   "outputs": [],
   "source": [
    "from sklearn.decomposition import PCA as sklearnPCA"
   ]
  },
  {
   "cell_type": "code",
   "execution_count": 29,
   "metadata": {
    "collapsed": true
   },
   "outputs": [],
   "source": [
    "pca = sklearnPCA(n_components=2) #2-dimensional PCA\n",
    "transformed = pd.DataFrame(pca.fit_transform(car_data[list_of_relevant_cols]))\n",
    "transformed['gear_labels'] =car_data[\"gear_labels\"]"
   ]
  },
  {
   "cell_type": "code",
   "execution_count": 30,
   "metadata": {},
   "outputs": [
    {
     "data": {
      "text/html": [
       "<div>\n",
       "<style scoped>\n",
       "    .dataframe tbody tr th:only-of-type {\n",
       "        vertical-align: middle;\n",
       "    }\n",
       "\n",
       "    .dataframe tbody tr th {\n",
       "        vertical-align: top;\n",
       "    }\n",
       "\n",
       "    .dataframe thead th {\n",
       "        text-align: right;\n",
       "    }\n",
       "</style>\n",
       "<table border=\"1\" class=\"dataframe\">\n",
       "  <thead>\n",
       "    <tr style=\"text-align: right;\">\n",
       "      <th></th>\n",
       "      <th>0</th>\n",
       "      <th>1</th>\n",
       "      <th>gear_labels</th>\n",
       "    </tr>\n",
       "  </thead>\n",
       "  <tbody>\n",
       "    <tr>\n",
       "      <th>0</th>\n",
       "      <td>-326.586687</td>\n",
       "      <td>-15.819617</td>\n",
       "      <td>1st gear</td>\n",
       "    </tr>\n",
       "    <tr>\n",
       "      <th>1</th>\n",
       "      <td>-326.586687</td>\n",
       "      <td>-15.819617</td>\n",
       "      <td>1st gear</td>\n",
       "    </tr>\n",
       "    <tr>\n",
       "      <th>2</th>\n",
       "      <td>-307.803808</td>\n",
       "      <td>-6.163940</td>\n",
       "      <td>1st gear</td>\n",
       "    </tr>\n",
       "    <tr>\n",
       "      <th>3</th>\n",
       "      <td>-307.803808</td>\n",
       "      <td>-6.163940</td>\n",
       "      <td>1st gear</td>\n",
       "    </tr>\n",
       "    <tr>\n",
       "      <th>4</th>\n",
       "      <td>-450.754842</td>\n",
       "      <td>-11.138056</td>\n",
       "      <td>1st gear</td>\n",
       "    </tr>\n",
       "  </tbody>\n",
       "</table>\n",
       "</div>"
      ],
      "text/plain": [
       "            0          1 gear_labels\n",
       "0 -326.586687 -15.819617    1st gear\n",
       "1 -326.586687 -15.819617    1st gear\n",
       "2 -307.803808  -6.163940    1st gear\n",
       "3 -307.803808  -6.163940    1st gear\n",
       "4 -450.754842 -11.138056    1st gear"
      ]
     },
     "execution_count": 30,
     "metadata": {},
     "output_type": "execute_result"
    }
   ],
   "source": [
    "transformed.head()"
   ]
  },
  {
   "cell_type": "code",
   "execution_count": 31,
   "metadata": {},
   "outputs": [
    {
     "data": {
      "image/png": "[encoded data removed]",
      "text/plain": [
       "<matplotlib.figure.Figure at 0x1a0af58110>"
      ]
     },
     "metadata": {},
     "output_type": "display_data"
    }
   ],
   "source": [
    "two_variables_with_cluster_color_simple(transformed, col_x_axis=0,col_y_axis=1)"
   ]
  },
  {
   "cell_type": "code",
   "execution_count": 32,
   "metadata": {
    "collapsed": true
   },
   "outputs": [],
   "source": [
    "car_data_raw['gear_labels'] = car_data['gear_labels']"
   ]
  },
  {
   "cell_type": "code",
   "execution_count": 33,
   "metadata": {
    "collapsed": true
   },
   "outputs": [],
   "source": [
    "car_data_raw.to_csv(\"car_data_with_gear_labels.csv\", index=False)"
   ]
  }
 ],
 "metadata": {
  "kernelspec": {
   "display_name": "Python 2",
   "language": "python",
   "name": "python2"
  },
  "language_info": {
   "codemirror_mode": {
    "name": "ipython",
    "version": 2
   },
   "file_extension": ".py",
   "mimetype": "text/x-python",
   "name": "python",
   "nbconvert_exporter": "python",
   "pygments_lexer": "ipython2",
   "version": "2.7.14"
  }
 },
 "nbformat": 4,
 "nbformat_minor": 2
}
